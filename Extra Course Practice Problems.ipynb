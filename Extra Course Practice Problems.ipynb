{
 "cells": [
  {
   "cell_type": "markdown",
   "metadata": {},
   "source": [
    "Extra Practice Problem 1\n",
    "\n",
    "Imagine you're writing code for an ATM that accepts cash\n",
    "deposits. You need to update the customer's balance based\n",
    "on a deposit amount. However, both the old balance and the\n",
    "deposit are given as strings.\n",
    "\n",
    "Write code below that will print the new balance after the\n",
    "deposit is processed. This should be printed along with\n",
    "the following text labeling the amount:\n",
    "\n",
    "The new balance is: 510.45\n",
    "\n",
    "Note that the old balance will always include change, but\n",
    "the deposit will never include change because the ATM has\n",
    "no coin slot, only a slot for paper money.\n",
    "\n",
    "With the initial values of the variables shown above, your\n",
    "code should print the text shown on line 17."
   ]
  },
  {
   "cell_type": "code",
   "execution_count": 1,
   "metadata": {},
   "outputs": [],
   "source": [
    "old_balance = \"500.45\"\n",
    "deposit = \"10\""
   ]
  },
  {
   "cell_type": "code",
   "execution_count": 2,
   "metadata": {},
   "outputs": [],
   "source": [
    "new_balance = float(old_balance) + int(deposit)"
   ]
  },
  {
   "cell_type": "code",
   "execution_count": 3,
   "metadata": {},
   "outputs": [
    {
     "data": {
      "text/plain": [
       "510.45"
      ]
     },
     "execution_count": 3,
     "metadata": {},
     "output_type": "execute_result"
    }
   ],
   "source": [
    "new_balance"
   ]
  },
  {
   "cell_type": "code",
   "execution_count": 4,
   "metadata": {},
   "outputs": [
    {
     "name": "stdout",
     "output_type": "stream",
     "text": [
      "The new balance is: 510.45\n"
     ]
    }
   ],
   "source": [
    "print(\"The new balance is:\",new_balance)"
   ]
  },
  {
   "cell_type": "code",
   "execution_count": null,
   "metadata": {},
   "outputs": [],
   "source": []
  }
 ],
 "metadata": {
  "kernelspec": {
   "display_name": "Python 3",
   "language": "python",
   "name": "python3"
  },
  "language_info": {
   "codemirror_mode": {
    "name": "ipython",
    "version": 3
   },
   "file_extension": ".py",
   "mimetype": "text/x-python",
   "name": "python",
   "nbconvert_exporter": "python",
   "pygments_lexer": "ipython3",
   "version": "3.7.6"
  }
 },
 "nbformat": 4,
 "nbformat_minor": 2
}
