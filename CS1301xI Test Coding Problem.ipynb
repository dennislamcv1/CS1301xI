{
 "cells": [
  {
   "cell_type": "markdown",
   "metadata": {},
   "source": [
    "Coding Problem 1"
   ]
  },
  {
   "cell_type": "markdown",
   "metadata": {},
   "source": [
    "mystery_string_1 and mystery_string_2 are each strings\n",
    "representing numbers. Write some code below that will find\n",
    "the numeric sum of the numbers represented by these strings.\n",
    "For example, if the strings were \"17\" and \"9\", your answer\n",
    "would be 26.\n",
    "\n",
    "Then, print out the result as part of a sentence of this\n",
    "form: \"The sum of the two strings is 26\". (Do not include\n",
    "quotes in your output, only print the message inside the\n",
    "quotes.)\n",
    "\n",
    "You may assume that both strings will hold integers."
   ]
  },
  {
   "cell_type": "code",
   "execution_count": 1,
   "metadata": {},
   "outputs": [],
   "source": [
    "mystery_string_1 = \"17\"\n",
    "mystery_string_2 = \"9\""
   ]
  },
  {
   "cell_type": "code",
   "execution_count": 3,
   "metadata": {},
   "outputs": [
    {
     "data": {
      "text/plain": [
       "26"
      ]
     },
     "execution_count": 3,
     "metadata": {},
     "output_type": "execute_result"
    }
   ],
   "source": [
    "answer = int(mystery_string_1) + int(mystery_string_2)\n",
    "answer"
   ]
  },
  {
   "cell_type": "code",
   "execution_count": 4,
   "metadata": {},
   "outputs": [
    {
     "name": "stdout",
     "output_type": "stream",
     "text": [
      "The sum of the two strings is 26\n"
     ]
    }
   ],
   "source": [
    "print(\"The sum of the two strings is\",answer)"
   ]
  },
  {
   "cell_type": "markdown",
   "metadata": {},
   "source": [
    "Coding Problem 3"
   ]
  },
  {
   "cell_type": "markdown",
   "metadata": {},
   "source": [
    "Write some code that will print the following message based\n",
    "on the values of current_hour and time_of_day:\n",
    "\n",
    "The current time is 5PM: Cuckoo!Cuckoo!Cuckoo!Cuckoo!Cuckoo!\n",
    "\n",
    "The values of current_hour and time_of_day should replace\n",
    "\"5PM\", and \"Cuckcoo!\" should be printed current_hour times.\n",
    "\n",
    "For example, if current_hour was 2 and time_of_day was \"AM\",\n",
    "this would print:\n",
    "\n",
    "The current time is 2AM: Cuckoo!Cuckoo!"
   ]
  },
  {
   "cell_type": "code",
   "execution_count": 5,
   "metadata": {},
   "outputs": [],
   "source": [
    "current_hour = 5\n",
    "time_of_day = \"PM\"\n"
   ]
  },
  {
   "cell_type": "code",
   "execution_count": 6,
   "metadata": {},
   "outputs": [
    {
     "data": {
      "text/plain": [
       "'5PM'"
      ]
     },
     "execution_count": 6,
     "metadata": {},
     "output_type": "execute_result"
    }
   ],
   "source": [
    "string = str(current_hour) + time_of_day\n",
    "string"
   ]
  },
  {
   "cell_type": "code",
   "execution_count": 7,
   "metadata": {},
   "outputs": [
    {
     "data": {
      "text/plain": [
       "'Cuckoo!Cuckoo!Cuckoo!Cuckoo!Cuckoo!'"
      ]
     },
     "execution_count": 7,
     "metadata": {},
     "output_type": "execute_result"
    }
   ],
   "source": [
    "string2 = \"Cuckoo!\" * current_hour\n",
    "string2"
   ]
  },
  {
   "cell_type": "code",
   "execution_count": 12,
   "metadata": {},
   "outputs": [
    {
     "name": "stdout",
     "output_type": "stream",
     "text": [
      "The current time is 5PM: Cuckoo!Cuckoo!Cuckoo!Cuckoo!Cuckoo!\n"
     ]
    }
   ],
   "source": [
    "print(\"The current time is\", string+':'+' '+string2)"
   ]
  },
  {
   "cell_type": "markdown",
   "metadata": {},
   "source": [
    "Coding Problem 4"
   ]
  },
  {
   "cell_type": "markdown",
   "metadata": {},
   "source": [
    "When taking out a mortgage (a type of loan) for a house, the\n",
    "mortgage is defined by three variables: the total cost of the\n",
    "house, the interest rate at which you will pay back the\n",
    "mortgage, and how many months you have to pay back the\n",
    "mortgage.\n",
    "\n",
    "The formula to find the total amount of money that will be\n",
    "paid over that time is:\n",
    "\n",
    "  Cost * Number of Months * Monthly Rate /\n",
    "  1 - ((1 + Monthly Rate) ^ -Number of Months))\n",
    "\n",
    "Note that both time and rate are based on months: to find the\n",
    "monhtly rate, divide the annual rate by 12. To find the number\n",
    "of months, multiply the number of years by 12.\n",
    "\n",
    "Write some code that prints out a sentence like the following\n",
    "based on the original cost, interest rate, and number of years\n",
    "given above:\n",
    "\n",
    "The total cost of the house will be $201751.36\n",
    "\n",
    "You should round the total cost to two decimal places. You can\n",
    "do this with this line, assuming the actual value of the\n",
    "mortgage is stored in final_cost: final_cost = round(final_cost, 2)"
   ]
  },
  {
   "cell_type": "code",
   "execution_count": 14,
   "metadata": {},
   "outputs": [],
   "source": [
    "cost = 150000\n",
    "rate = 0.0415\n",
    "years = 15"
   ]
  },
  {
   "cell_type": "code",
   "execution_count": 15,
   "metadata": {},
   "outputs": [
    {
     "data": {
      "text/plain": [
       "33750000.0"
      ]
     },
     "execution_count": 15,
     "metadata": {},
     "output_type": "execute_result"
    }
   ],
   "source": [
    "numerator = cost * (years*12) * (years/12)\n",
    "numerator"
   ]
  },
  {
   "cell_type": "code",
   "execution_count": 19,
   "metadata": {},
   "outputs": [
    {
     "data": {
      "text/plain": [
       "178.75"
      ]
     },
     "execution_count": 19,
     "metadata": {},
     "output_type": "execute_result"
    }
   ],
   "source": [
    "denominator =  1 - ((1 + (years/12))-(years*12))\n",
    "denominator"
   ]
  },
  {
   "cell_type": "code",
   "execution_count": 21,
   "metadata": {},
   "outputs": [
    {
     "data": {
      "text/plain": [
       "188811.18881118883"
      ]
     },
     "execution_count": 21,
     "metadata": {},
     "output_type": "execute_result"
    }
   ],
   "source": [
    "finalcost = numerator/denominator\n",
    "finalcost"
   ]
  },
  {
   "cell_type": "code",
   "execution_count": null,
   "metadata": {},
   "outputs": [],
   "source": []
  }
 ],
 "metadata": {
  "kernelspec": {
   "display_name": "Python 3",
   "language": "python",
   "name": "python3"
  },
  "language_info": {
   "codemirror_mode": {
    "name": "ipython",
    "version": 3
   },
   "file_extension": ".py",
   "mimetype": "text/x-python",
   "name": "python",
   "nbconvert_exporter": "python",
   "pygments_lexer": "ipython3",
   "version": "3.7.6"
  }
 },
 "nbformat": 4,
 "nbformat_minor": 2
}
